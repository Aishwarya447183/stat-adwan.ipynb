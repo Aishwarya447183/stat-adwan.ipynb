{
 "cells": [
  {
   "cell_type": "code",
   "execution_count": null,
   "id": "88b0fe09-2889-4a51-95a3-d850ef44e662",
   "metadata": {},
   "outputs": [],
   "source": [
    "##Q1.\n",
    "\n",
    "Sure, here's an example Python function that performs a variance ratio test:\n",
    "\n",
    "import numpy as np\n",
    "from scipy.stats import f\n",
    "\n",
    "def variance_ratio_test(x, y):\n",
    "    n = len(x)\n",
    "    m = len(y)\n",
    "    s1 = np.var(x, ddof=1)\n",
    "    s2 = np.var(y, ddof=1)\n",
    "    f_value = s1 / s2\n",
    "    p_value = f.cdf(f_value, n-1, m-1)\n",
    "    return f_value, p_value"
   ]
  },
  {
   "cell_type": "code",
   "execution_count": null,
   "id": "5e7c5b1c-e2e6-450d-a378-af48e2672433",
   "metadata": {},
   "outputs": [],
   "source": [
    "Here, x and y are the two arrays of data that we want to compare. We first calculate the sample variances s1 and s2 for x and y, respectively, using np.var() with ddof=1 to specify that we are computing the unbiased estimator of the variance. We then compute the F-value as the ratio of the two variances, s1 / s2. Finally, we use the f.cdf() function from SciPy's stats module to calculate the p-value for the test, given the degrees of freedom n-1 and m-1.\n",
    "\n",
    "Note that this function assumes that the two arrays of data are independent and come from normal distributions with equal variances. If these assumptions are not met, the results of the test may not be valid"
   ]
  },
  {
   "cell_type": "code",
   "execution_count": null,
   "id": "def55b6d-0cda-487a-909c-5832bbfc1712",
   "metadata": {},
   "outputs": [],
   "source": [
    "##Q2.\n",
    "Sure, here's a Python function that calculates the critical F-value for a two-tailed test, given a significance level and the degrees of freedom for the numerator and denominator of an F-distribution:"
   ]
  },
  {
   "cell_type": "code",
   "execution_count": 1,
   "id": "20050b0b-2fb9-4913-b5a9-986fa2a39473",
   "metadata": {},
   "outputs": [],
   "source": [
    "from scipy.stats import f\n",
    "\n",
    "def critical_f_value(alpha, dfn, dfd):\n",
    "    return f.ppf(alpha/2, dfn, dfd), f.ppf(1-alpha/2, dfn, dfd)\n"
   ]
  },
  {
   "cell_type": "code",
   "execution_count": 2,
   "id": "c1aa2afd-f4be-45c7-a78f-6acbd8212956",
   "metadata": {},
   "outputs": [],
   "source": [
    "#Here, alpha is the significance level, and dfn and dfd are the degrees of freedom for the numerator and denominator of the F-distribution, respectively. The function uses SciPy's f.ppf() function to calculate the critical F-value for a two-tailed test.\n",
    "\n",
    "#The function returns a tuple containing the critical F-values for the lower and upper tails of the F-distribution, respectively. For example, to get the critical F-value for a two-tailed test with a significance level of 0.05 and degrees of freedom of 5 and 10, we could call the function as follows:"
   ]
  },
  {
   "cell_type": "code",
   "execution_count": 3,
   "id": "8f4c1b5d-cc8a-4333-88c0-f3a6b3260625",
   "metadata": {},
   "outputs": [
    {
     "name": "stdout",
     "output_type": "stream",
     "text": [
      "Critical F-values: 0.15107670102998205, 4.236085668188633\n"
     ]
    }
   ],
   "source": [
    "f_low, f_high = critical_f_value(0.05, 5, 10)\n",
    "print(f\"Critical F-values: {f_low}, {f_high}\")\n"
   ]
  },
  {
   "cell_type": "code",
   "execution_count": 5,
   "id": "d550cfb1-cc44-470b-9f20-96189aa831de",
   "metadata": {},
   "outputs": [
    {
     "name": "stdout",
     "output_type": "stream",
     "text": [
      "F-value: 0.5088\n",
      "Degrees of freedom: 49, 59\n",
      "P-value: 0.0162\n"
     ]
    }
   ],
   "source": [
    "##Q3.\n",
    "#Sure, here's an example Python program that generates random samples from two normal distributions with known variances and performs an F-test to determine if the variances are equal:\n",
    "\n",
    "import numpy as np\n",
    "from scipy.stats import f\n",
    "\n",
    "# Set seed for reproducibility\n",
    "np.random.seed(123)\n",
    "\n",
    "# Generate two normal distributions with known variances\n",
    "n1 = 50\n",
    "n2 = 60\n",
    "mu1 = 10\n",
    "mu2 = 12\n",
    "var1 = 4\n",
    "var2 = 9\n",
    "x = np.random.normal(mu1, np.sqrt(var1), n1)\n",
    "y = np.random.normal(mu2, np.sqrt(var2), n2)\n",
    "\n",
    "# Perform F-test for equal variances\n",
    "f_value = np.var(x, ddof=1) / np.var(y, ddof=1)\n",
    "dfn = n1 - 1\n",
    "dfd = n2 - 1\n",
    "p_value = f.cdf(f_value, dfn, dfd) * 2 # multiplied by 2 for a two-tailed test\n",
    "\n",
    "# Output results\n",
    "print(f\"F-value: {f_value:.4f}\")\n",
    "print(f\"Degrees of freedom: {dfn}, {dfd}\")\n",
    "print(f\"P-value: {p_value:.4f}\")\n"
   ]
  },
  {
   "cell_type": "code",
   "execution_count": null,
   "id": "b932a227-84af-4d84-bc58-228be5548cbf",
   "metadata": {},
   "outputs": [],
   "source": [
    "In this example, we generate two normal distributions with known variances var1 and var2 and means mu1 and mu2, respectively, and sample sizes n1 and n2. We then use NumPy's random.normal() function to generate random samples from each distribution.\n",
    "\n",
    "Next, we perform an F-test for equal variances by calculating the ratio of the variances of the two samples using np.var() with ddof=1 to compute the unbiased estimator of the variance. We then calculate the degrees of freedom for the numerator and denominator of the F-distribution as dfn = n1 - 1 and dfd = n2 - 1, respectively, and calculate the p-value for the test using f.cdf() from SciPy's stats module. We multiply the p-value by 2 for a two-tailed test.\n",
    "\n",
    "Finally, we output the results of the test, including the F-value, degrees of freedom, and p-value."
   ]
  },
  {
   "cell_type": "code",
   "execution_count": null,
   "id": "c546a563-c3ff-4f4c-84c0-f728ce280803",
   "metadata": {},
   "outputs": [],
   "source": [
    "##Q4.\n",
    "\n",
    "To conduct an F-test at the 5% significance level to determine if the variances of two populations are significantly different, we can use the following steps:\n",
    "\n",
    "Set up the null and alternative hypotheses:\n",
    "\n",
    "Null hypothesis: The variances of the two populations are equal.\n",
    "\n",
    "Alternative hypothesis: The variances of the two populations are not equal.\n",
    "\n",
    "Determine the significance level (alpha) and the degrees of freedom for the F-distribution:\n",
    "\n",
    "alpha = 0.05\n",
    "\n",
    "degrees of freedom for the numerator (population with larger variance) = 11\n",
    "\n",
    "degrees of freedom for the denominator (population with smaller variance) = 10\n",
    "\n",
    "Calculate the test statistic (F-value):\n",
    "\n",
    "F = variance of the population with larger variance / variance of the population with smaller variance = 15 / 10 = 1.5\n",
    "Calculate the p-value associated with the test statistic:\n",
    "\n",
    "The p-value can be calculated using the cumulative distribution function (cdf) of the F-distribution. The p-value for a two-tailed test with degrees of freedom 11 and 10 and an F-value of 1.5 is approximately 0.311.\n",
    "Compare the p-value to the significance level:\n",
    "\n",
    "Since the p-value (0.311) is greater than the significance level (0.05), we fail to reject the null hypothesis. That is, we do not have sufficient evidence to conclude that the variances of the two populations are significantly different at the 5% level of significance.\n",
    "Therefore, we conclude that there is not enough evidence to suggest that the variances of the two populations are significantly different at the 5% level of significance.\n"
   ]
  },
  {
   "cell_type": "code",
   "execution_count": null,
   "id": "3336707f-e865-4c9f-a74f-1aebacdf3b8c",
   "metadata": {},
   "outputs": [],
   "source": [
    "##Q5.\n",
    "To conduct an F-test at the 1% significance level to determine if the manufacturer's claim that the variance of the diameter of a certain product is 0.005 is justified, we can use the following steps:\n",
    "\n",
    "Set up the null and alternative hypotheses:\n",
    "\n",
    "Null hypothesis: The variance of the diameter of the product is equal to 0.005.\n",
    "\n",
    "Alternative hypothesis: The variance of the diameter of the product is not equal to 0.005.\n",
    "\n",
    "Determine the significance level (alpha) and the degrees of freedom for the F-distribution:\n",
    "\n",
    "alpha = 0.01\n",
    "\n",
    "degrees of freedom for the numerator (sample variance) = 24\n",
    "\n",
    "degrees of freedom for the denominator (claimed variance) = 24\n",
    "\n",
    "Calculate the test statistic (F-value):\n",
    "\n",
    "F = sample variance / claimed variance = 0.006 / 0.005 = 1.2\n",
    "Calculate the p-value associated with the test statistic:\n",
    "\n",
    "The p-value can be calculated using the cumulative distribution function (cdf) of the F-distribution. The p-value for a two-tailed test with degrees of freedom 24 and 24 and an F-value of 1.2 is approximately 0.292.\n",
    "Compare the p-value to the significance level:\n",
    "\n",
    "Since the p-value (0.292) is greater than the significance level (0.01), we fail to reject the null hypothesis. That is, we do not have sufficient evidence to conclude that the variance of the diameter of the product is significantly different from 0.005 at the 1% level of significance.\n",
    "Therefore, we conclude that there is not enough evidence to suggest that the manufacturer's claim that the variance of the diameter of a certain product is 0.005 is unjustified at the 1% level of significance.\n"
   ]
  },
  {
   "cell_type": "code",
   "execution_count": 6,
   "id": "3b4d3656-66e2-4f45-97c1-1d7950977124",
   "metadata": {},
   "outputs": [],
   "source": [
    "##Q6.\n",
    "import scipy.stats as stats\n",
    "\n",
    "def f_distribution_mean_and_var(df_num, df_denom):\n",
    "    \"\"\"\n",
    "    Calculates the mean and variance of an F-distribution.\n",
    "    \n",
    "    Parameters:\n",
    "    df_num (int): degrees of freedom for the numerator\n",
    "    df_denom (int): degrees of freedom for the denominator\n",
    "    \n",
    "    Returns:\n",
    "    tuple: mean and variance of the F-distribution\n",
    "    \"\"\"\n",
    "    mean = df_denom / (df_denom - 2)\n",
    "    variance = (2 * df_denom ** 2 * (df_num + df_denom - 2)) / (df_num * (df_denom - 2) ** 2 * (df_denom - 4))\n",
    "    \n",
    "    return (mean, variance)\n"
   ]
  },
  {
   "cell_type": "code",
   "execution_count": null,
   "id": "8b7f9632-014c-4d53-9098-1250c645a28c",
   "metadata": {},
   "outputs": [],
   "source": [
    "mean = df_denom / (df_denom - 2)"
   ]
  },
  {
   "cell_type": "code",
   "execution_count": null,
   "id": "fad7c99c-6da9-4049-be8f-82910d852fea",
   "metadata": {},
   "outputs": [],
   "source": [
    "variance = (2 * df_denom^2 * (df_num + df_denom - 2)) / (df_num * (df_denom - 2)^2 * (df_denom - 4))"
   ]
  },
  {
   "cell_type": "code",
   "execution_count": null,
   "id": "5efefef9-051e-4b5a-b926-0e783be0c13f",
   "metadata": {},
   "outputs": [],
   "source": [
    "The function returns the mean and variance as a tuple."
   ]
  },
  {
   "cell_type": "code",
   "execution_count": null,
   "id": "c1db661d-5f41-4707-a188-64acbd351929",
   "metadata": {},
   "outputs": [],
   "source": [
    "##Q7.\n",
    "\n",
    "To conduct an F-test at the 10% significance level to determine if the variances of two normal populations are significantly different, we can use the following steps:\n",
    "\n",
    "Set up the null and alternative hypotheses:\n",
    "\n",
    "Null hypothesis: The variances of the two populations are equal.\n",
    "\n",
    "Alternative hypothesis: The variances of the two populations are not equal.\n",
    "\n",
    "Determine the significance level (alpha) and the degrees of freedom for the F-distribution:\n",
    "\n",
    "alpha = 0.1\n",
    "\n",
    "degrees of freedom for the numerator = 9 (sample variance of the first population)\n",
    "\n",
    "degrees of freedom for the denominator = 14 (sample variance of the second population)\n",
    "\n",
    "Calculate the test statistic (F-value):\n",
    "\n",
    "F = larger sample variance / smaller sample variance = 25 / 20 = 1.25\n",
    "Calculate the p-value associated with the test statistic:\n",
    "\n",
    "The p-value can be calculated using the cumulative distribution function (cdf) of the F-distribution. The p-value for a two-tailed test with degrees of freedom 9 and 14 and an F-value of 1.25 is approximately 0.389.\n",
    "Compare the p-value to the significance level:\n",
    "\n",
    "Since the p-value (0.389) is greater than the significance level (0.1), we fail to reject the null hypothesis. That is, we do not have sufficient evidence to conclude that the variances of the two populations are significantly different at the 10% level of significance.\n",
    "Therefore, we conclude that there is not enough evidence to suggest that the variances of the two populations are significantly different at the 10% level of significance.\n"
   ]
  },
  {
   "cell_type": "code",
   "execution_count": null,
   "id": "ba39bf0e-31b2-4806-bb5a-f85ef19d14c3",
   "metadata": {},
   "outputs": [],
   "source": [
    "##Q8.\n",
    "\n",
    "To conduct an F-test at the 5% significance level to determine if the variances of the waiting times at two restaurants are significantly different, we can use the following steps:\n",
    "\n",
    "Set up the null and alternative hypotheses:\n",
    "\n",
    "Null hypothesis: The variances of the waiting times at the two restaurants are equal.\n",
    "\n",
    "Alternative hypothesis: The variances of the waiting times at the two restaurants are not equal.\n",
    "\n",
    "Determine the significance level (alpha) and the degrees of freedom for the F-distribution:\n",
    "\n",
    "alpha = 0.05\n",
    "\n",
    "degrees of freedom for the numerator = 6 (number of observations in Restaurant A - 1)\n",
    "\n",
    "degrees of freedom for the denominator = 5 (number of observations in Restaurant B - 1)\n",
    "\n",
    "Calculate the sample variances of the two samples:\n",
    "\n",
    "Sample variance of Restaurant A = 7.14\n",
    "\n",
    "Sample variance of Restaurant B = 4.0\n",
    "\n",
    "Calculate the test statistic (F-value):\n",
    "\n",
    "F = larger sample variance / smaller sample variance = 7.14 / 4.0 = 1.785\n",
    "Calculate the p-value associated with the test statistic:\n",
    "\n",
    "The p-value can be calculated using the cumulative distribution function (cdf) of the F-distribution. The p-value for a two-tailed test with degrees of freedom 6 and 5 and an F-value of 1.785 is approximately 0.287.\n",
    "Compare the p-value to the significance level:\n",
    "\n",
    "Since the p-value (0.287) is greater than the significance level (0.05), we fail to reject the null hypothesis. That is, we do not have sufficient evidence to conclude that the variances of the waiting times at the two restaurants are significantly different at the 5% level of significance.\n",
    "Therefore, we conclude that there is not enough evidence to suggest that the variances of the waiting times at the two restaurants are significantly different at the 5% level of significance.\n"
   ]
  },
  {
   "cell_type": "code",
   "execution_count": null,
   "id": "3ea38e51-1470-482d-8abc-74761e2fce98",
   "metadata": {},
   "outputs": [],
   "source": [
    "##Q9.\n",
    "\n"
   ]
  }
 ],
 "metadata": {
  "kernelspec": {
   "display_name": "Python 3 (ipykernel)",
   "language": "python",
   "name": "python3"
  },
  "language_info": {
   "codemirror_mode": {
    "name": "ipython",
    "version": 3
   },
   "file_extension": ".py",
   "mimetype": "text/x-python",
   "name": "python",
   "nbconvert_exporter": "python",
   "pygments_lexer": "ipython3",
   "version": "3.10.8"
  }
 },
 "nbformat": 4,
 "nbformat_minor": 5
}
